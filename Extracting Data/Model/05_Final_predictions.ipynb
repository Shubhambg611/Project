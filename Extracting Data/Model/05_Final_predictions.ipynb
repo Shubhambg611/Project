{
 "cells": [
  {
   "cell_type": "code",
   "execution_count": 1,
   "id": "679e1360",
   "metadata": {},
   "outputs": [],
   "source": [
    "import cv2\n",
    "import predictions as pred"
   ]
  },
  {
   "cell_type": "code",
   "execution_count": 2,
   "id": "32bc08cd",
   "metadata": {},
   "outputs": [],
   "source": [
    "img = cv2.imread('./Images/242.jpeg')\n",
    "\n",
    "cv2.namedWindow('original',cv2.WINDOW_NORMAL)\n",
    "cv2.imshow('original',img)\n",
    "cv2.waitKey(0)\n",
    "cv2.destroyAllWindows()"
   ]
  },
  {
   "cell_type": "code",
   "execution_count": 3,
   "id": "fdde2bb4",
   "metadata": {},
   "outputs": [
    {
     "name": "stdout",
     "output_type": "stream",
     "text": [
      "dr. t. s. reddy senior consultant traffic transportation lea associates south asia pvt. ltd. leadership in consulting engineers planners engineering hl no 1-4-879/54/1a, street no. 8, p lannin g near vijaya bank, lower tank bund, gandhinagar, hyderabad-500080 a.p. india solutions tel 91-40-66747 122 / 66747135 . mobile 91-91778 82230 email tsr@lasaindia.com ————— limmappagari@ymait.com _ alea group company website - www.lasaindia.com\n",
      "{'NAME': [], 'ORG': ['Pvt Ltd'], 'DES': ['Senior'], 'ADD': ['Ap India'], 'PHONE': ['', '91', '66747135', '9182230'], 'EMAIL': ['associates', 'asia', 'tsr@lasaindia.com', 'limmappagari@ymait.com'], 'WEB': ['www.lasaindia.com']}\n"
     ]
    }
   ],
   "source": [
    "img_result,entities = pred.getPredictions(img)\n",
    "\n",
    "print(entities)\n",
    "cv2.namedWindow('predictions',cv2.WINDOW_NORMAL)\n",
    "cv2.imshow('predictions',img_result)\n",
    "cv2.waitKey(0)\n",
    "cv2.destroyAllWindows()"
   ]
  },
  {
   "cell_type": "code",
   "execution_count": null,
   "id": "4cc98e27",
   "metadata": {},
   "outputs": [],
   "source": []
  },
  {
   "cell_type": "code",
   "execution_count": null,
   "id": "5bdc7b6c",
   "metadata": {},
   "outputs": [],
   "source": []
  },
  {
   "cell_type": "code",
   "execution_count": null,
   "id": "ee49992e",
   "metadata": {},
   "outputs": [],
   "source": []
  }
 ],
 "metadata": {
  "kernelspec": {
   "display_name": "Python 3 (ipykernel)",
   "language": "python",
   "name": "python3"
  },
  "language_info": {
   "codemirror_mode": {
    "name": "ipython",
    "version": 3
   },
   "file_extension": ".py",
   "mimetype": "text/x-python",
   "name": "python",
   "nbconvert_exporter": "python",
   "pygments_lexer": "ipython3",
   "version": "3.10.8"
  }
 },
 "nbformat": 4,
 "nbformat_minor": 5
}
