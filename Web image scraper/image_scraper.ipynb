{
 "cells": [
  {
   "cell_type": "code",
   "execution_count": 1,
   "metadata": {},
   "outputs": [],
   "source": [
    "import requests\n",
    "import logging\n",
    "import os\n",
    "from bs4 import BeautifulSoup #use to scrap data from HTML pages\n",
    "from urllib.request import urlopen #for requesting to server to open any URL"
   ]
  },
  {
   "cell_type": "code",
   "execution_count": 2,
   "metadata": {},
   "outputs": [],
   "source": [
    "save_dir=\"images/\"\n",
    "if not os.path.exists(save_dir):\n",
    "    os.makedirs(save_dir)"
   ]
  },
  {
   "cell_type": "code",
   "execution_count": 3,
   "metadata": {},
   "outputs": [],
   "source": [
    "query = \"maharashtra\"\n",
    "#url=https://www.google.com/search?q=query&sca_esv=555377685&tbm=isch&sxsrf=AB5stBhbNHrOiC_3d-Q-BEKi0Jt4lLnP1g:1691649531153&source=lnms&sa=X&ved=2ahUKEwjNz43LvdGAAxWUTGwGHZdUBOkQ_AUoAnoECAIQBA&biw=767&bih=708&dpr=1.25"
   ]
  },
  {
   "cell_type": "code",
   "execution_count": 4,
   "metadata": {},
   "outputs": [],
   "source": [
    "response=requests.get(f\"https://www.google.com/search?q={query}&sca_esv=555377685&tbm=isch&sxsrf=AB5stBhbNHrOiC_3d-Q-BEKi0Jt4lLnP1g:1691649531153&source=lnms&sa=X&ved=2ahUKEwjNz43LvdGAAxWUTGwGHZdUBOkQ_AUoAnoECAIQBA&biw=767&bih=708&dpr=1.25\")"
   ]
  },
  {
   "cell_type": "code",
   "execution_count": 5,
   "metadata": {},
   "outputs": [
    {
     "data": {
      "text/plain": [
       "<Response [200]>"
      ]
     },
     "execution_count": 5,
     "metadata": {},
     "output_type": "execute_result"
    }
   ],
   "source": [
    "response"
   ]
  },
  {
   "cell_type": "code",
   "execution_count": 6,
   "metadata": {},
   "outputs": [],
   "source": [
    "soup=BeautifulSoup(response.content,\"html.parser\")"
   ]
  },
  {
   "cell_type": "code",
   "execution_count": 7,
   "metadata": {},
   "outputs": [
    {
     "data": {
      "text/plain": [
       "<!DOCTYPE html PUBLIC \"-//WAPFORUM//DTD XHTML Mobile 1.0//EN\" \"http://www.wapforum.org/DTD/xhtml-mobile10.dtd\">\n",
       "<html lang=\"en-IN\" xmlns=\"http://www.w3.org/1999/xhtml\"><head><meta content=\"application/xhtml+xml; charset=utf-8\" http-equiv=\"Content-Type\"/><meta content=\"no-cache\" name=\"Cache-Control\"/><title>maharashtra - Google Search</title><style>a{text-decoration:none;color:inherit}a:hover{text-decoration:underline}a img{border:0}body{font-family:arial,sans-serif;padding:8px;margin:0 auto;max-width:700px;min-width:240px;}.FbhRzb{border-left:thin solid #dadce0;border-right:thin solid #dadce0;border-top:thin solid #dadce0;height:40px;overflow:hidden}.n692Zd{margin-bottom:10px}.cvifge{height:40px;border-spacing:0}.QvGUP{height:40px;padding:0 8px 0 8px;vertical-align:top}.O4cRJf{height:40px;width:100%;padding:0;padding-right:16px}.O1ePr{height:40px;padding:0;vertical-align:top}.kgJEQe{height:36px;width:98px;vertical-align:top;margin-top:4px}.lXLRf{vertical-align:top}.MhzMZd{border:0;vertical-align:middle;font-size:14px;height:40px;padding:0;width:100%;padding-left:16px}.xB0fq{height:40px;border:none;font-size:14px;background-color:#1a73e8;color:#fff;padding:0 16px;margin:0;vertical-align:top;cursor:pointer}.xB0fq:focus{border:1px solid #1a73e8}.M7pB2{border:thin solid #dadce0;margin:0 0 3px 0;font-size:13px;font-weight:500;height:40px}.euZec{width:100%;height:40px;text-align:center;border-spacing:0}table.euZec td{padding:0;width:25%}.QIqI7{display:inline-block;padding-top:4px;font-weight:bold;color:#4285f4}.EY24We{border-bottom:2px solid #4285f4}.CsQyDc{display:inline-block;color:#70757a}.TuS8Ad{font-size:14px}.HddGcc{padding:8px;color:#70757a}.dzp8ae{font-weight:bold;color:#3c4043}.rEM8G{color:#70757a}.bookcf{table-layout:fixed;width:100%;border-spacing:0}.InWNIe{text-align:center}.uZgmoc{border:thin solid #dadce0;color:#70757a;font-size:14px;text-align:center;table-layout:fixed;width:100%}.frGj1b{display:block;padding:12px 0 12px 0;width:100%}.BnJWBc{text-align:center;padding:6px 0 13px 0;height:35px}.e3goi{vertical-align:top;padding:0;height:180px}.GpQGbf{margin:auto;border-collapse:collapse;border-spacing:0;width:100%}</style></head><body><style>.X6ZCif{color:#202124;font-size:11px;line-height:16px;display:inline-block;padding-top:2px;overflow:hidden;padding-bottom:4px;width:100%}.TwVfHd{border-radius:16px;border:thin solid #dadce0;display:inline-block;padding:8px 8px;margin-right:8px;margin-bottom:4px}.yekiAe{background-color:#dadce0}.mnTahd{width:100%}.ezO2md{border:thin solid #dadce0;padding:12px 16px 12px 16px;margin-bottom:10px;font-family:arial,sans-serif}.lIMUZd{font-family:arial,sans-serif}.IkMU6e{border-spacing:0}.SjCsie{width:100%}.EnarA{text-align:center}.NZWO1b{width:162px;height:140px;line-height:140px;overflow:'hidden';text-align:center}.yWs4tf{text-align:center;margin:auto;vertical-align:middle;max-width:162px;max-height:140px}.jB2rPd{padding-top:2px;padding-bottom:8px;}.fYyStc{word-break:break-word}.ynsChf{display:block;white-space:nowrap;overflow:hidden;text-overflow:ellipsis}.Fj3V3b{color:#1967d2;font-size:14px;line-height:20px}.FrIlee{color:#202124;font-size:11px;line-height:16px}.F9iS2e{color:#70757a;font-size:11px;line-height:16px}.WMQ2Le{color:#70757a;font-size:12px;line-height:16px}.x3G5ab{color:#202124;font-size:12px;line-height:16px}.fuLhoc{color:#1967d2;font-size:16px;line-height:20px}.epoveb{font-size:24px;line-height:28px;font-weight:400;color:#202124}.dXDvrc{color:#0d652d;font-size:14px;line-height:20px;word-wrap:break-word}.dloBPe{font-weight:bold}.YVIcad{color:#70757a}.JkVVdd{color:#ea4335}.oXZRFd{color:#ea4335}.MQHtg{color:#fbbc04}.pyMRrb{color:#1e8e3e}.EtTZid{color:#1e8e3e}.M3vVJe{color:#1967d2}.qXLe6d{display:block}.NHQNef{font-style:italic}.Cb8Z7c{white-space:pre}a.ZWRArf{text-decoration:none}a .CVA68e:hover{text-decoration:underline}</style><div class=\"n692Zd\"><div class=\"BnJWBc\"><a class=\"lXLRf\" href=\"/?sa=X&amp;sca_esv=555377685&amp;biw=767&amp;bih=708&amp;output=images&amp;ie=UTF-8&amp;tbm=isch&amp;ved=0ahUKEwibh6jJgNKAAxWA8DgGHbRMDlwQPAgC\"><img alt=\"Google\" class=\"kgJEQe\" src=\"/images/branding/searchlogo/1x/googlelogo_desk_heirloom_color_150x55dp.gif\"/></a></div><div class=\"FbhRzb\"><form action=\"/search\"><input name=\"sca_esv\" type=\"hidden\" value=\"555377685\"/><input name=\"biw\" type=\"hidden\" value=\"767\"/><input name=\"bih\" type=\"hidden\" value=\"708\"/><input name=\"ie\" type=\"hidden\" value=\"ISO-8859-1\"/><input name=\"tbm\" type=\"hidden\" value=\"isch\"/><input name=\"oq\" type=\"hidden\"/><input name=\"aqs\" type=\"hidden\"/><table class=\"cvifge\"><tr><td class=\"O4cRJf\"><input class=\"MhzMZd\" name=\"q\" type=\"text\" value=\"maharashtra\"/></td><td class=\"O1ePr\"><input class=\"xB0fq\" type=\"submit\" value=\"Search\"/></td></tr></table></form></div><div class=\"M7pB2\"><table class=\"euZec\"><tbody><tr><td><a class=\"CsQyDc\" href=\"/search?q=maharashtra&amp;sca_esv=555377685&amp;biw=767&amp;bih=708&amp;ie=UTF-8&amp;source=lnms&amp;sa=X&amp;ved=0ahUKEwibh6jJgNKAAxWA8DgGHbRMDlwQ_AUIBCgA\">ALL</a></td><td><a class=\"CsQyDc\" href=\"/search?q=maharashtra&amp;sca_esv=555377685&amp;biw=767&amp;bih=708&amp;ie=UTF-8&amp;tbm=nws&amp;source=lnms&amp;sa=X&amp;ved=0ahUKEwibh6jJgNKAAxWA8DgGHbRMDlwQ_AUIBSgB\">NEWS</a></td><td class=\"EY24We\"><span class=\"QIqI7\">IMAGES</span></td><td><a class=\"CsQyDc\" href=\"/search?q=maharashtra&amp;sca_esv=555377685&amp;biw=767&amp;bih=708&amp;ie=UTF-8&amp;tbm=vid&amp;source=lnms&amp;sa=X&amp;ved=0ahUKEwibh6jJgNKAAxWA8DgGHbRMDlwQ_AUIBygD\">VIDEOS</a></td></tr></tbody></table></div></div><div class=\"X6ZCif\"><a class=\"TwVfHd\" href=\"/search?sca_esv=555377685&amp;biw=767&amp;bih=708&amp;ie=UTF-8&amp;tbm=isch&amp;q=maharashtra&amp;chips=q:maharashtra,g_1:map&amp;sa=X&amp;ved=0ahUKEwibh6jJgNKAAxWA8DgGHbRMDlwQ4lYICygA\">map</a><a class=\"TwVfHd\" href=\"/search?sca_esv=555377685&amp;biw=767&amp;bih=708&amp;ie=UTF-8&amp;tbm=isch&amp;q=maharashtra&amp;chips=q:maharashtra,g_1:village&amp;sa=X&amp;ved=0ahUKEwibh6jJgNKAAxWA8DgGHbRMDlwQ4lYIDCgB\">village</a><a class=\"TwVfHd\" href=\"/search?sca_esv=555377685&amp;biw=767&amp;bih=708&amp;ie=UTF-8&amp;tbm=isch&amp;q=maharashtra&amp;chips=q:maharashtra,g_1:mumbai&amp;sa=X&amp;ved=0ahUKEwibh6jJgNKAAxWA8DgGHbRMDlwQ4lYIDSgC\">mumbai</a><a class=\"TwVfHd\" href=\"/search?sca_esv=555377685&amp;biw=767&amp;bih=708&amp;ie=UTF-8&amp;tbm=isch&amp;q=maharashtra&amp;chips=q:maharashtra,g_1:pune&amp;sa=X&amp;ved=0ahUKEwibh6jJgNKAAxWA8DgGHbRMDlwQ4lYIDigD\">pune</a><a class=\"TwVfHd\" href=\"/search?sca_esv=555377685&amp;biw=767&amp;bih=708&amp;ie=UTF-8&amp;tbm=isch&amp;q=maharashtra&amp;chips=q:maharashtra,g_1:state&amp;sa=X&amp;ved=0ahUKEwibh6jJgNKAAxWA8DgGHbRMDlwQ4lYIDygE\">state</a><a class=\"TwVfHd\" href=\"/search?sca_esv=555377685&amp;biw=767&amp;bih=708&amp;ie=UTF-8&amp;tbm=isch&amp;q=maharashtra&amp;chips=q:maharashtra,g_1:fort&amp;sa=X&amp;ved=0ahUKEwibh6jJgNKAAxWA8DgGHbRMDlwQ4lYIECgF\">fort</a><a class=\"TwVfHd\" href=\"/search?sca_esv=555377685&amp;biw=767&amp;bih=708&amp;ie=UTF-8&amp;tbm=isch&amp;q=maharashtra&amp;chips=q:maharashtra,g_1:traditional&amp;sa=X&amp;ved=0ahUKEwibh6jJgNKAAxWA8DgGHbRMDlwQ4lYIESgG\">traditional</a><a class=\"TwVfHd\" href=\"/search?sca_esv=555377685&amp;biw=767&amp;bih=708&amp;ie=UTF-8&amp;tbm=isch&amp;q=maharashtra&amp;chips=q:maharashtra,g_1:city&amp;sa=X&amp;ved=0ahUKEwibh6jJgNKAAxWA8DgGHbRMDlwQ4lYIEigH\">city</a><a class=\"TwVfHd\" href=\"/search?sca_esv=555377685&amp;biw=767&amp;bih=708&amp;ie=UTF-8&amp;tbm=isch&amp;q=maharashtra&amp;chips=q:maharashtra,g_1:logo&amp;sa=X&amp;ved=0ahUKEwibh6jJgNKAAxWA8DgGHbRMDlwQ4lYIEygI\">logo</a><a class=\"TwVfHd\" href=\"/search?sca_esv=555377685&amp;biw=767&amp;bih=708&amp;ie=UTF-8&amp;tbm=isch&amp;q=maharashtra&amp;chips=q:maharashtra,g_1:tourist&amp;sa=X&amp;ved=0ahUKEwibh6jJgNKAAxWA8DgGHbRMDlwQ4lYIFCgJ\">tourist</a></div><div><table class=\"GpQGbf\"><tr><td align=\"center\" class=\"e3goi\"><div class=\"mnTahd\"> <div> <div class=\"lIMUZd\"><div><table class=\"IkMU6e\"><tr><td><a href=\"/url?q=https://en.wikipedia.org/wiki/Geography_of_Maharashtra&amp;sa=U&amp;ved=2ahUKEwibh6jJgNKAAxWA8DgGHbRMDlwQqoUBegQIBBAB&amp;usg=AOvVaw3aq502FVxN7PRtsQat5bWU\"><div class=\"NZWO1b\"><img alt=\"\" class=\"yWs4tf\" src=\"https://encrypted-tbn0.gstatic.com/images?q=tbn:ANd9GcRi9GZgAiqeybUhk58tBP0nBZjxA_h2_InPYFheVXGbrbfNwfdSFB0xVyIdQw&amp;s\"/></div></a></td></tr><tr><td><a href=\"/url?q=https://en.wikipedia.org/wiki/Geography_of_Maharashtra&amp;sa=U&amp;ved=2ahUKEwibh6jJgNKAAxWA8DgGHbRMDlwQr4kDegQIBBAC&amp;usg=AOvVaw0FWdT2wpumufd48IM8Nmyg\"><div class=\"jB2rPd\"> <span class=\"qXLe6d x3G5ab\"> <span class=\"fYyStc\">Geography of Maharashtra -...</span> </span> <span class=\"qXLe6d F9iS2e\"> <span class=\"fYyStc\">en.wikipedia.org</span> </span> </div></a></td></tr></table></div></div> </div> </div></td><td align=\"center\" class=\"e3goi\"><div class=\"mnTahd\"> <div> <div class=\"lIMUZd\"><div><table class=\"IkMU6e\"><tr><td><a href=\"/url?q=https://www.mapsofindia.com/maps/maharashtra/&amp;sa=U&amp;ved=2ahUKEwibh6jJgNKAAxWA8DgGHbRMDlwQqoUBegQIExAB&amp;usg=AOvVaw2kZ6FNXrVXntNWIk1LHzng\"><div class=\"NZWO1b\"><img alt=\"\" class=\"yWs4tf\" src=\"https://encrypted-tbn0.gstatic.com/images?q=tbn:ANd9GcS_Bmmb3lblYHqaS9S9GVh8P_2gyN8J0Rhmyc1TVTcaUODPTTLEpw7icfi9GN0&amp;s\"/></div></a></td></tr><tr><td><a href=\"/url?q=https://www.mapsofindia.com/maps/maharashtra/&amp;sa=U&amp;ved=2ahUKEwibh6jJgNKAAxWA8DgGHbRMDlwQr4kDegQIExAC&amp;usg=AOvVaw3XOlBEocYo9GGOFdq7PZDt\"><div class=\"jB2rPd\"> <span class=\"qXLe6d x3G5ab\"> <span class=\"fYyStc\">Maharashtra Map | Map of...</span> </span> <span class=\"qXLe6d F9iS2e\"> <span class=\"fYyStc\">www.mapsofindia.com</span> </span> </div></a></td></tr></table></div></div> </div> </div></td><td align=\"center\" class=\"e3goi\"><div class=\"mnTahd\"> <div> <div class=\"lIMUZd\"><div><table class=\"IkMU6e\"><tr><td><a href=\"/url?q=https://en.wikipedia.org/wiki/Maharashtra&amp;sa=U&amp;ved=2ahUKEwibh6jJgNKAAxWA8DgGHbRMDlwQqoUBegQIEhAB&amp;usg=AOvVaw1lD2ZnbXLvqqZrEbttwn-F\"><div class=\"NZWO1b\"><img alt=\"\" class=\"yWs4tf\" src=\"https://encrypted-tbn0.gstatic.com/images?q=tbn:ANd9GcSuzf6Y23xv3gtICFzv6GMckpsVzCj6xojs5KztibLilaBKHprajHpYkrEoOZg&amp;s\"/></div></a></td></tr><tr><td><a href=\"/url?q=https://en.wikipedia.org/wiki/Maharashtra&amp;sa=U&amp;ved=2ahUKEwibh6jJgNKAAxWA8DgGHbRMDlwQr4kDegQIEhAC&amp;usg=AOvVaw0T2UnVcZaUXMWN45HDzUQG\"><div class=\"jB2rPd\"> <span class=\"qXLe6d x3G5ab\"> <span class=\"fYyStc\">Maharashtra - Wikipedia</span> </span> <span class=\"qXLe6d F9iS2e\"> <span class=\"fYyStc\">en.wikipedia.org</span> </span> </div></a></td></tr></table></div></div> </div> </div></td><td align=\"center\" class=\"e3goi\"><div class=\"mnTahd\"> <div> <div class=\"lIMUZd\"><div><table class=\"IkMU6e\"><tr><td><a href=\"/url?q=https://www.mapsofindia.com/maps/maharashtra/cities.html&amp;sa=U&amp;ved=2ahUKEwibh6jJgNKAAxWA8DgGHbRMDlwQqoUBegQIERAB&amp;usg=AOvVaw3ZlaCoSUaYj2EhklwDxP6f\"><div class=\"NZWO1b\"><img alt=\"\" class=\"yWs4tf\" src=\"https://encrypted-tbn0.gstatic.com/images?q=tbn:ANd9GcTJPATX08ng7DcZBBg-YM3Uv9vrYz09u9urQD40C21Ow118Lb82KTuoC_QPyA&amp;s\"/></div></a></td></tr><tr><td><a href=\"/url?q=https://www.mapsofindia.com/maps/maharashtra/cities.html&amp;sa=U&amp;ved=2ahUKEwibh6jJgNKAAxWA8DgGHbRMDlwQr4kDegQIERAC&amp;usg=AOvVaw1deWnibcb4mC7Zo_cpPxkB\"><div class=\"jB2rPd\"> <span class=\"qXLe6d x3G5ab\"> <span class=\"fYyStc\">Cities in Maharashtra</span> </span> <span class=\"qXLe6d F9iS2e\"> <span class=\"fYyStc\">www.mapsofindia.com</span> </span> </div></a></td></tr></table></div></div> </div> </div></td></tr><tr><td align=\"center\" class=\"e3goi\"><div class=\"mnTahd\"> <div> <div class=\"lIMUZd\"><div><table class=\"IkMU6e\"><tr><td><a href=\"/url?q=https://wotr.org/maharashtra/&amp;sa=U&amp;ved=2ahUKEwibh6jJgNKAAxWA8DgGHbRMDlwQqoUBegQIDxAB&amp;usg=AOvVaw0U3XVcgQFszkjMVkpb5YE2\"><div class=\"NZWO1b\"><img alt=\"\" class=\"yWs4tf\" src=\"https://encrypted-tbn0.gstatic.com/images?q=tbn:ANd9GcR3EKOFTeBUEK_OjYKu_QdiqGYXhfRs70-QjdVGlqUAk3h5QIaotMli7Z6h6Fs&amp;s\"/></div></a></td></tr><tr><td><a href=\"/url?q=https://wotr.org/maharashtra/&amp;sa=U&amp;ved=2ahUKEwibh6jJgNKAAxWA8DgGHbRMDlwQr4kDegQIDxAC&amp;usg=AOvVaw2aEutvmEyXnfUqsqz2iO61\"><div class=\"jB2rPd\"> <span class=\"qXLe6d x3G5ab\"> <span class=\"fYyStc\">Most Trusted Watershed...</span> </span> <span class=\"qXLe6d F9iS2e\"> <span class=\"fYyStc\">wotr.org</span> </span> </div></a></td></tr></table></div></div> </div> </div></td><td align=\"center\" class=\"e3goi\"><div class=\"mnTahd\"> <div> <div class=\"lIMUZd\"><div><table class=\"IkMU6e\"><tr><td><a href=\"/url?q=https://www.javatpoint.com/tourist-places-in-maharashtra&amp;sa=U&amp;ved=2ahUKEwibh6jJgNKAAxWA8DgGHbRMDlwQqoUBegQICxAB&amp;usg=AOvVaw2QRD2HjxSH2JooUWTABZ6C\"><div class=\"NZWO1b\"><img alt=\"\" class=\"yWs4tf\" src=\"https://encrypted-tbn0.gstatic.com/images?q=tbn:ANd9GcQeGaPa1wSFBEbSUbuUB1YZGPZ3ffV-1QliVGmvKaFE_7K1W4hpbRnSJAEYLwc&amp;s\"/></div></a></td></tr><tr><td><a href=\"/url?q=https://www.javatpoint.com/tourist-places-in-maharashtra&amp;sa=U&amp;ved=2ahUKEwibh6jJgNKAAxWA8DgGHbRMDlwQr4kDegQICxAC&amp;usg=AOvVaw3f467gfjq7txzux9-ORIDm\"><div class=\"jB2rPd\"> <span class=\"qXLe6d x3G5ab\"> <span class=\"fYyStc\">23 Best Tourist Places in...</span> </span> <span class=\"qXLe6d F9iS2e\"> <span class=\"fYyStc\">www.javatpoint.com</span> </span> </div></a></td></tr></table></div></div> </div> </div></td><td align=\"center\" class=\"e3goi\"><div class=\"mnTahd\"> <div> <div class=\"lIMUZd\"><div><table class=\"IkMU6e\"><tr><td><a href=\"/url?q=https://stock.adobe.com/search%3Fk%3Dmaharashtra%2Bmap&amp;sa=U&amp;ved=2ahUKEwibh6jJgNKAAxWA8DgGHbRMDlwQqoUBegQIChAB&amp;usg=AOvVaw2CTSi9wCsfJLHcijbxeKhF\"><div class=\"NZWO1b\"><img alt=\"\" class=\"yWs4tf\" src=\"https://encrypted-tbn0.gstatic.com/images?q=tbn:ANd9GcSh9td6ul_6GMOY4bmkP7X7ioDzN5U1WyQFCwaEIfynd74btKUFXE9quQym5Q&amp;s\"/></div></a></td></tr><tr><td><a href=\"/url?q=https://stock.adobe.com/search%3Fk%3Dmaharashtra%2Bmap&amp;sa=U&amp;ved=2ahUKEwibh6jJgNKAAxWA8DgGHbRMDlwQr4kDegQIChAC&amp;usg=AOvVaw2xHzQ2WAimw8tp8gjMLFLk\"><div class=\"jB2rPd\"> <span class=\"qXLe6d x3G5ab\"> <span class=\"fYyStc\">Maharashtra Map Images –...</span> </span> <span class=\"qXLe6d F9iS2e\"> <span class=\"fYyStc\">stock.adobe.com</span> </span> </div></a></td></tr></table></div></div> </div> </div></td><td align=\"center\" class=\"e3goi\"><div class=\"mnTahd\"> <div> <div class=\"lIMUZd\"><div><table class=\"IkMU6e\"><tr><td><a href=\"/url?q=https://en.wiktionary.org/wiki/Maharashtra&amp;sa=U&amp;ved=2ahUKEwibh6jJgNKAAxWA8DgGHbRMDlwQqoUBegQIDRAB&amp;usg=AOvVaw0Uu7nh_PmwYN0SRw_M1lnm\"><div class=\"NZWO1b\"><img alt=\"\" class=\"yWs4tf\" src=\"https://encrypted-tbn0.gstatic.com/images?q=tbn:ANd9GcQ8XSI84AjJ1MLWg5HnXok6eNH5XUJ_oPy_KG5P43VSFfRpg9SYFGnFhRhpI_I&amp;s\"/></div></a></td></tr><tr><td><a href=\"/url?q=https://en.wiktionary.org/wiki/Maharashtra&amp;sa=U&amp;ved=2ahUKEwibh6jJgNKAAxWA8DgGHbRMDlwQr4kDegQIDRAC&amp;usg=AOvVaw2h1GiEvwMEUXbqzBEzD532\"><div class=\"jB2rPd\"> <span class=\"qXLe6d x3G5ab\"> <span class=\"fYyStc\">Maharashtra - Wiktionary,...</span> </span> <span class=\"qXLe6d F9iS2e\"> <span class=\"fYyStc\">en.wiktionary.org</span> </span> </div></a></td></tr></table></div></div> </div> </div></td></tr><tr><td align=\"center\" class=\"e3goi\"><div class=\"mnTahd\"> <div> <div class=\"lIMUZd\"><div><table class=\"IkMU6e\"><tr><td><a href=\"/url?q=https://commons.wikimedia.org/wiki/File:Maharashtra_Districts.png&amp;sa=U&amp;ved=2ahUKEwibh6jJgNKAAxWA8DgGHbRMDlwQqoUBegQIDBAB&amp;usg=AOvVaw0en6V8mTgWvPGoHlMsX0yo\"><div class=\"NZWO1b\"><img alt=\"\" class=\"yWs4tf\" src=\"https://encrypted-tbn0.gstatic.com/images?q=tbn:ANd9GcQDqcI5jprBEmUYX0JIQbE4NJv3xnPaPaD3o1FkBKbYBuroMncpqiLkc8LG6Q&amp;s\"/></div></a></td></tr><tr><td><a href=\"/url?q=https://commons.wikimedia.org/wiki/File:Maharashtra_Districts.png&amp;sa=U&amp;ved=2ahUKEwibh6jJgNKAAxWA8DgGHbRMDlwQr4kDegQIDBAC&amp;usg=AOvVaw07GqjNjCRK_fEwmigfYFBY\"><div class=\"jB2rPd\"> <span class=\"qXLe6d x3G5ab\"> <span class=\"fYyStc\">File:Maharashtra...</span> </span> <span class=\"qXLe6d F9iS2e\"> <span class=\"fYyStc\">commons.wikimedia.org</span> </span> </div></a></td></tr></table></div></div> </div> </div></td><td align=\"center\" class=\"e3goi\"><div class=\"mnTahd\"> <div> <div class=\"lIMUZd\"><div><table class=\"IkMU6e\"><tr><td><a href=\"/url?q=https://www.britannica.com/place/Maharashtra&amp;sa=U&amp;ved=2ahUKEwibh6jJgNKAAxWA8DgGHbRMDlwQqoUBegQIEBAB&amp;usg=AOvVaw2hzPYJD15B8KRClAgqdYY7\"><div class=\"NZWO1b\"><img alt=\"\" class=\"yWs4tf\" src=\"https://encrypted-tbn0.gstatic.com/images?q=tbn:ANd9GcQBNxx9A9T_1P0njT84OoLuixiuVzZeIBcQqKp94VV9AISzB_T5EUjHkWM_ylk&amp;s\"/></div></a></td></tr><tr><td><a href=\"/url?q=https://www.britannica.com/place/Maharashtra&amp;sa=U&amp;ved=2ahUKEwibh6jJgNKAAxWA8DgGHbRMDlwQr4kDegQIEBAC&amp;usg=AOvVaw1LWnAXaUm65QMTvYFaUqHG\"><div class=\"jB2rPd\"> <span class=\"qXLe6d x3G5ab\"> <span class=\"fYyStc\">Maharashtra | Capital, Map,...</span> </span> <span class=\"qXLe6d F9iS2e\"> <span class=\"fYyStc\">www.britannica.com</span> </span> </div></a></td></tr></table></div></div> </div> </div></td><td align=\"center\" class=\"e3goi\"><div class=\"mnTahd\"> <div> <div class=\"lIMUZd\"><div><table class=\"IkMU6e\"><tr><td><a href=\"/url?q=https://www.godigit.com/explore/tourist-attractions/best-places-to-visit-in-maharashtra&amp;sa=U&amp;ved=2ahUKEwibh6jJgNKAAxWA8DgGHbRMDlwQqoUBegQIDhAB&amp;usg=AOvVaw1KpVt3rDHjrkK6-5cPVjgW\"><div class=\"NZWO1b\"><img alt=\"\" class=\"yWs4tf\" src=\"https://encrypted-tbn0.gstatic.com/images?q=tbn:ANd9GcS0JI9GWSuhaBfpXI5lEY0FpxX4YNmKR3lkc14RHy5GQWXRmM83r0IXJCdyWCw&amp;s\"/></div></a></td></tr><tr><td><a href=\"/url?q=https://www.godigit.com/explore/tourist-attractions/best-places-to-visit-in-maharashtra&amp;sa=U&amp;ved=2ahUKEwibh6jJgNKAAxWA8DgGHbRMDlwQr4kDegQIDhAC&amp;usg=AOvVaw0Tk6jm57EwdUUrdcelgDac\"><div class=\"jB2rPd\"> <span class=\"qXLe6d x3G5ab\"> <span class=\"fYyStc\">Best Places To Visit In...</span> </span> <span class=\"qXLe6d F9iS2e\"> <span class=\"fYyStc\">www.godigit.com</span> </span> </div></a></td></tr></table></div></div> </div> </div></td><td align=\"center\" class=\"e3goi\"><div class=\"mnTahd\"> <div> <div class=\"lIMUZd\"><div><table class=\"IkMU6e\"><tr><td><a href=\"/url?q=https://www.burningcompass.com/countries/india/maharashtra-district-map.html&amp;sa=U&amp;ved=2ahUKEwibh6jJgNKAAxWA8DgGHbRMDlwQqoUBegQICRAB&amp;usg=AOvVaw3FRCFHSI0R8GashQ_ezsfu\"><div class=\"NZWO1b\"><img alt=\"\" class=\"yWs4tf\" src=\"https://encrypted-tbn0.gstatic.com/images?q=tbn:ANd9GcTG0bEhIX6krRAk5U4Hd_5ULnqjmr_i7OowL1-SSFhz1wwDbTam3Ljj5igiD8k&amp;s\"/></div></a></td></tr><tr><td><a href=\"/url?q=https://www.burningcompass.com/countries/india/maharashtra-district-map.html&amp;sa=U&amp;ved=2ahUKEwibh6jJgNKAAxWA8DgGHbRMDlwQr4kDegQICRAC&amp;usg=AOvVaw07cpkPOsFNqCPZdIg3z6MC\"><div class=\"jB2rPd\"> <span class=\"qXLe6d x3G5ab\"> <span class=\"fYyStc\">Maharashtra District Map,...</span> </span> <span class=\"qXLe6d F9iS2e\"> <span class=\"fYyStc\">www.burningcompass.com</span> </span> </div></a></td></tr></table></div></div> </div> </div></td></tr><tr><td align=\"center\" class=\"e3goi\"><div class=\"mnTahd\"> <div> <div class=\"lIMUZd\"><div><table class=\"IkMU6e\"><tr><td><a href=\"/url?q=https://www.ndtv.com/india-news/maharashtra-to-change-caste-based-names-of-localities-report-2333364&amp;sa=U&amp;ved=2ahUKEwibh6jJgNKAAxWA8DgGHbRMDlwQqoUBegQIAhAB&amp;usg=AOvVaw0cqlcKGh8WPH1gFIFAyXZn\"><div class=\"NZWO1b\"><img alt=\"\" class=\"yWs4tf\" src=\"https://encrypted-tbn0.gstatic.com/images?q=tbn:ANd9GcTidorygNfHfHWLtTjgGJMtV9JPXIEJ64evAZab4CEQ1t278fo5bigebHMPd7g&amp;s\"/></div></a></td></tr><tr><td><a href=\"/url?q=https://www.ndtv.com/india-news/maharashtra-to-change-caste-based-names-of-localities-report-2333364&amp;sa=U&amp;ved=2ahUKEwibh6jJgNKAAxWA8DgGHbRMDlwQr4kDegQIAhAC&amp;usg=AOvVaw1P4R1elrW9XmbCjTOd9WPS\"><div class=\"jB2rPd\"> <span class=\"qXLe6d x3G5ab\"> <span class=\"fYyStc\">Maharashtra To Change...</span> </span> <span class=\"qXLe6d F9iS2e\"> <span class=\"fYyStc\">www.ndtv.com</span> </span> </div></a></td></tr></table></div></div> </div> </div></td><td align=\"center\" class=\"e3goi\"><div class=\"mnTahd\"> <div> <div class=\"lIMUZd\"><div><table class=\"IkMU6e\"><tr><td><a href=\"/url?q=https://www.indiatoday.in/india/story/coronavirus-mumbai-pune-nagpur-malls-threatres-gyms-pools-shut-maharashtra-1655250-2020-03-13&amp;sa=U&amp;ved=2ahUKEwibh6jJgNKAAxWA8DgGHbRMDlwQqoUBegQIAxAB&amp;usg=AOvVaw3nOYmYZGxlhmdkromYwiZg\"><div class=\"NZWO1b\"><img alt=\"\" class=\"yWs4tf\" src=\"https://encrypted-tbn0.gstatic.com/images?q=tbn:ANd9GcQgOVQnIkIIBnSQfjNAQ6DKmlbJAlkya266ODQhURmTCwaZUpHRMqR9tMNwaqc&amp;s\"/></div></a></td></tr><tr><td><a href=\"/url?q=https://www.indiatoday.in/india/story/coronavirus-mumbai-pune-nagpur-malls-threatres-gyms-pools-shut-maharashtra-1655250-2020-03-13&amp;sa=U&amp;ved=2ahUKEwibh6jJgNKAAxWA8DgGHbRMDlwQr4kDegQIAxAC&amp;usg=AOvVaw1gQ5Judf21D3OnrkB15wVq\"><div class=\"jB2rPd\"> <span class=\"qXLe6d x3G5ab\"> <span class=\"fYyStc\">Coronavirus: Theatres,...</span> </span> <span class=\"qXLe6d F9iS2e\"> <span class=\"fYyStc\">www.indiatoday.in</span> </span> </div></a></td></tr></table></div></div> </div> </div></td><td align=\"center\" class=\"e3goi\"><div class=\"mnTahd\"> <div> <div class=\"lIMUZd\"><div><table class=\"IkMU6e\"><tr><td><a href=\"/url?q=https://currentaffairs.adda247.com/maharashtra-has-highest-number-of-sc-entrepreneurs/&amp;sa=U&amp;ved=2ahUKEwibh6jJgNKAAxWA8DgGHbRMDlwQqoUBegQIBxAB&amp;usg=AOvVaw1RTiOWch8ql8c9oaEvt_rC\"><div class=\"NZWO1b\"><img alt=\"\" class=\"yWs4tf\" src=\"https://encrypted-tbn0.gstatic.com/images?q=tbn:ANd9GcSvRLoDwKpeD6fbotOKuPbZvC69A7tojPxfyRem75otEVNj0M_rkR6zU7pXaA&amp;s\"/></div></a></td></tr><tr><td><a href=\"/url?q=https://currentaffairs.adda247.com/maharashtra-has-highest-number-of-sc-entrepreneurs/&amp;sa=U&amp;ved=2ahUKEwibh6jJgNKAAxWA8DgGHbRMDlwQr4kDegQIBxAC&amp;usg=AOvVaw1DRjqBhCI2uWYj6IqN8oG4\"><div class=\"jB2rPd\"> <span class=\"qXLe6d x3G5ab\"> <span class=\"fYyStc\">Maharashtra has highest...</span> </span> <span class=\"qXLe6d F9iS2e\"> <span class=\"fYyStc\">currentaffairs.adda247.com</span> </span> </div></a></td></tr></table></div></div> </div> </div></td><td align=\"center\" class=\"e3goi\"><div class=\"mnTahd\"> <div> <div class=\"lIMUZd\"><div><table class=\"IkMU6e\"><tr><td><a href=\"/url?q=https://www.mapsofindia.com/maps/maharashtra/maharashtra.htm&amp;sa=U&amp;ved=2ahUKEwibh6jJgNKAAxWA8DgGHbRMDlwQqoUBegQICBAB&amp;usg=AOvVaw2HGzOJmADV9qCeI3sAVeIN\"><div class=\"NZWO1b\"><img alt=\"\" class=\"yWs4tf\" src=\"https://encrypted-tbn0.gstatic.com/images?q=tbn:ANd9GcSO7mlmjpT7KutGeXtY3fuzoS_ShjZkekHR9PaCafXJCXLU-oXISCVzmCQGPw&amp;s\"/></div></a></td></tr><tr><td><a href=\"/url?q=https://www.mapsofindia.com/maps/maharashtra/maharashtra.htm&amp;sa=U&amp;ved=2ahUKEwibh6jJgNKAAxWA8DgGHbRMDlwQr4kDegQICBAC&amp;usg=AOvVaw22w0RUIJ91LPzIVUNWBvoO\"><div class=\"jB2rPd\"> <span class=\"qXLe6d x3G5ab\"> <span class=\"fYyStc\">Districts Map of...</span> </span> <span class=\"qXLe6d F9iS2e\"> <span class=\"fYyStc\">www.mapsofindia.com</span> </span> </div></a></td></tr></table></div></div> </div> </div></td></tr><tr><td align=\"center\" class=\"e3goi\"><div class=\"mnTahd\"> <div> <div class=\"lIMUZd\"><div><table class=\"IkMU6e\"><tr><td><a href=\"/url?q=https://www.scobserver.in/journal/maharashtra-political-crisis-the-limits-of-supreme-courts-expiations/&amp;sa=U&amp;ved=2ahUKEwibh6jJgNKAAxWA8DgGHbRMDlwQqoUBegQIBRAB&amp;usg=AOvVaw2w0XJtTwfWv7tsZD2kQ2Mr\"><div class=\"NZWO1b\"><img alt=\"\" class=\"yWs4tf\" src=\"https://encrypted-tbn0.gstatic.com/images?q=tbn:ANd9GcQ1xgGWvJ9jlBx84rUEDmqxcw516QVRsz0K-mMOCBt_FtdJeDDTWULc37X5AA&amp;s\"/></div></a></td></tr><tr><td><a href=\"/url?q=https://www.scobserver.in/journal/maharashtra-political-crisis-the-limits-of-supreme-courts-expiations/&amp;sa=U&amp;ved=2ahUKEwibh6jJgNKAAxWA8DgGHbRMDlwQr4kDegQIBRAC&amp;usg=AOvVaw1I1GZp1vvFYtGtjbqGxwEN\"><div class=\"jB2rPd\"> <span class=\"qXLe6d x3G5ab\"> <span class=\"fYyStc\">Maharashtra Political...</span> </span> <span class=\"qXLe6d F9iS2e\"> <span class=\"fYyStc\">www.scobserver.in</span> </span> </div></a></td></tr></table></div></div> </div> </div></td><td align=\"center\" class=\"e3goi\"><div class=\"mnTahd\"> <div> <div class=\"lIMUZd\"><div><table class=\"IkMU6e\"><tr><td><a href=\"/url?q=https://timesofindia.indiatimes.com/travel/destinations/maharashtra-govt-plans-to-develop-25-spots-around-the-state-for-tourism/articleshow/64028333.cms&amp;sa=U&amp;ved=2ahUKEwibh6jJgNKAAxWA8DgGHbRMDlwQqoUBegQIBhAB&amp;usg=AOvVaw3pZr_tcRsCFa0YqAXFdkjT\"><div class=\"NZWO1b\"><img alt=\"\" class=\"yWs4tf\" src=\"https://encrypted-tbn0.gstatic.com/images?q=tbn:ANd9GcTInmRrTxi1Vak4ggILY7OBqV2_O50wA9S80E128tfjLj_qQrcqEmkGsT0I4Fo&amp;s\"/></div></a></td></tr><tr><td><a href=\"/url?q=https://timesofindia.indiatimes.com/travel/destinations/maharashtra-govt-plans-to-develop-25-spots-around-the-state-for-tourism/articleshow/64028333.cms&amp;sa=U&amp;ved=2ahUKEwibh6jJgNKAAxWA8DgGHbRMDlwQr4kDegQIBhAC&amp;usg=AOvVaw184eR-SfKDg-CAjFlV_88A\"><div class=\"jB2rPd\"> <span class=\"qXLe6d x3G5ab\"> <span class=\"fYyStc\">Maharashtra Govt. plans to...</span> </span> <span class=\"qXLe6d F9iS2e\"> <span class=\"fYyStc\">timesofindia.indiatimes.com...</span> </span> </div></a></td></tr></table></div></div> </div> </div></td><td align=\"center\" class=\"e3goi\"><div class=\"mnTahd\"> <div> <div class=\"lIMUZd\"><div><table class=\"IkMU6e\"><tr><td><a href=\"/url?q=https://www.burningcompass.com/countries/india/maharashtra-district-map-in-marathi.html&amp;sa=U&amp;ved=2ahUKEwibh6jJgNKAAxWA8DgGHbRMDlwQqoUBegQIABAB&amp;usg=AOvVaw0a0l8PUaa0UqiPzeOzmOln\"><div class=\"NZWO1b\"><img alt=\"\" class=\"yWs4tf\" src=\"https://encrypted-tbn0.gstatic.com/images?q=tbn:ANd9GcSbkb9etLjrpsTywKdaFnHEChoyVkTsTA7a6Ggp4GR2du8XNl2kr_z8nLgmhg&amp;s\"/></div></a></td></tr><tr><td><a href=\"/url?q=https://www.burningcompass.com/countries/india/maharashtra-district-map-in-marathi.html&amp;sa=U&amp;ved=2ahUKEwibh6jJgNKAAxWA8DgGHbRMDlwQr4kDegQIABAC&amp;usg=AOvVaw1oBUgmcrnhFfhZq61oIPF_\"><div class=\"jB2rPd\"> <span class=\"qXLe6d x3G5ab\"> <span class=\"fYyStc\">Maharashtra Map in Marathi,...</span> </span> <span class=\"qXLe6d F9iS2e\"> <span class=\"fYyStc\">www.burningcompass.com</span> </span> </div></a></td></tr></table></div></div> </div> </div></td><td align=\"center\" class=\"e3goi\"><div class=\"mnTahd\"> <div> <div class=\"lIMUZd\"><div><table class=\"IkMU6e\"><tr><td><a href=\"/url?q=https://www.livemint.com/news/india/maharashtra-day-2023-history-significance-and-wishes-to-share-with-your-loved-ones-11682901296498.html&amp;sa=U&amp;ved=2ahUKEwibh6jJgNKAAxWA8DgGHbRMDlwQqoUBegQIARAB&amp;usg=AOvVaw2qmIB0KOcjllamzcIoYZrs\"><div class=\"NZWO1b\"><img alt=\"\" class=\"yWs4tf\" src=\"https://encrypted-tbn0.gstatic.com/images?q=tbn:ANd9GcR1xmqZ1V2SfBoLSRpFhEyMWtSUZg33Ax8uDlvVId_6zVQeYX-WX6H7PNoLqhs&amp;s\"/></div></a></td></tr><tr><td><a href=\"/url?q=https://www.livemint.com/news/india/maharashtra-day-2023-history-significance-and-wishes-to-share-with-your-loved-ones-11682901296498.html&amp;sa=U&amp;ved=2ahUKEwibh6jJgNKAAxWA8DgGHbRMDlwQr4kDegQIARAC&amp;usg=AOvVaw0uHKkR6OP05EERxhPmL0ZS\"><div class=\"jB2rPd\"> <span class=\"qXLe6d x3G5ab\"> <span class=\"fYyStc\">Maharashtra Day 2023:...</span> </span> <span class=\"qXLe6d F9iS2e\"> <span class=\"fYyStc\">www.livemint.com</span> </span> </div></a></td></tr></table></div></div> </div> </div></td></tr></table></div><table class=\"uZgmoc\"><tbody><td><a class=\"frGj1b\" href=\"/search?q=maharashtra&amp;sca_esv=555377685&amp;biw=767&amp;bih=708&amp;ie=UTF-8&amp;tbm=isch&amp;ei=OMzUZJuLIoDh4-EPtJm54AU&amp;start=20&amp;sa=N\">Next &gt;</a></td></tbody></table><br/><div class=\"TuS8Ad\" data-ved=\"0ahUKEwibh6jJgNKAAxWA8DgGHbRMDlwQpyoIUg\"><style>.VYM29{font-weight:bold}</style><div align=\"center\" class=\"HddGcc\"><span class=\"VYM29\">400080, Mumbai, Maharashtra</span><span> - </span><span>From your IP address</span><span> - </span><a href=\"/url?q=https://support.google.com/websearch%3Fp%3Dws_settings_location%26hl%3Den-IN&amp;sa=U&amp;ved=0ahUKEwibh6jJgNKAAxWA8DgGHbRMDlwQty4IUw&amp;usg=AOvVaw083qA4aChip3bo9VYfkZZH\">Learn more</a></div><div align=\"center\"><a class=\"rEM8G\" href=\"/url?q=https://accounts.google.com/ServiceLogin%3Fcontinue%3Dhttps://www.google.com/search%253Fq%253Dmaharashtra%2526sca_esv%253D555377685%2526tbm%253Disch%2526sxsrf%253DAB5stBhbNHrOiC_3d-Q-BEKi0Jt4lLnP1g:1691649531153%2526source%253Dlnms%2526sa%253DX%2526ved%253D2ahUKEwjNz43LvdGAAxWUTGwGHZdUBOkQ_AUoAnoECAIQBA%2526biw%253D767%2526bih%253D708%2526dpr%253D1.25%26hl%3Den&amp;sa=U&amp;ved=0ahUKEwibh6jJgNKAAxWA8DgGHbRMDlwQxs8CCFQ&amp;usg=AOvVaw0F2qyKOe0Vdbt-wO9yKpSE\">Sign in</a></div><div><table class=\"bookcf\"><tbody class=\"InWNIe\"><tr><td><a class=\"rEM8G\" href=\"https://www.google.com/preferences?hl=en&amp;sa=X&amp;ved=0ahUKEwibh6jJgNKAAxWA8DgGHbRMDlwQv5YECFU\">Settings</a></td><td><a class=\"rEM8G\" href=\"https://www.google.com/intl/en_in/policies/privacy/\">Privacy</a></td><td><a class=\"rEM8G\" href=\"https://www.google.com/intl/en_in/policies/terms/\">Terms</a></td></tr></tbody></table></div></div><div> </div></body></html>"
      ]
     },
     "execution_count": 7,
     "metadata": {},
     "output_type": "execute_result"
    }
   ],
   "source": [
    "soup"
   ]
  },
  {
   "cell_type": "code",
   "execution_count": 8,
   "metadata": {},
   "outputs": [],
   "source": [
    "image_tags=soup.find_all(\"img\")"
   ]
  },
  {
   "cell_type": "code",
   "execution_count": 9,
   "metadata": {},
   "outputs": [],
   "source": [
    "del image_tags[0]"
   ]
  },
  {
   "cell_type": "code",
   "execution_count": 10,
   "metadata": {},
   "outputs": [
    {
     "data": {
      "text/plain": [
       "[<img alt=\"\" class=\"yWs4tf\" src=\"https://encrypted-tbn0.gstatic.com/images?q=tbn:ANd9GcRi9GZgAiqeybUhk58tBP0nBZjxA_h2_InPYFheVXGbrbfNwfdSFB0xVyIdQw&amp;s\"/>,\n",
       " <img alt=\"\" class=\"yWs4tf\" src=\"https://encrypted-tbn0.gstatic.com/images?q=tbn:ANd9GcS_Bmmb3lblYHqaS9S9GVh8P_2gyN8J0Rhmyc1TVTcaUODPTTLEpw7icfi9GN0&amp;s\"/>,\n",
       " <img alt=\"\" class=\"yWs4tf\" src=\"https://encrypted-tbn0.gstatic.com/images?q=tbn:ANd9GcSuzf6Y23xv3gtICFzv6GMckpsVzCj6xojs5KztibLilaBKHprajHpYkrEoOZg&amp;s\"/>,\n",
       " <img alt=\"\" class=\"yWs4tf\" src=\"https://encrypted-tbn0.gstatic.com/images?q=tbn:ANd9GcTJPATX08ng7DcZBBg-YM3Uv9vrYz09u9urQD40C21Ow118Lb82KTuoC_QPyA&amp;s\"/>,\n",
       " <img alt=\"\" class=\"yWs4tf\" src=\"https://encrypted-tbn0.gstatic.com/images?q=tbn:ANd9GcR3EKOFTeBUEK_OjYKu_QdiqGYXhfRs70-QjdVGlqUAk3h5QIaotMli7Z6h6Fs&amp;s\"/>,\n",
       " <img alt=\"\" class=\"yWs4tf\" src=\"https://encrypted-tbn0.gstatic.com/images?q=tbn:ANd9GcQeGaPa1wSFBEbSUbuUB1YZGPZ3ffV-1QliVGmvKaFE_7K1W4hpbRnSJAEYLwc&amp;s\"/>,\n",
       " <img alt=\"\" class=\"yWs4tf\" src=\"https://encrypted-tbn0.gstatic.com/images?q=tbn:ANd9GcSh9td6ul_6GMOY4bmkP7X7ioDzN5U1WyQFCwaEIfynd74btKUFXE9quQym5Q&amp;s\"/>,\n",
       " <img alt=\"\" class=\"yWs4tf\" src=\"https://encrypted-tbn0.gstatic.com/images?q=tbn:ANd9GcQ8XSI84AjJ1MLWg5HnXok6eNH5XUJ_oPy_KG5P43VSFfRpg9SYFGnFhRhpI_I&amp;s\"/>,\n",
       " <img alt=\"\" class=\"yWs4tf\" src=\"https://encrypted-tbn0.gstatic.com/images?q=tbn:ANd9GcQDqcI5jprBEmUYX0JIQbE4NJv3xnPaPaD3o1FkBKbYBuroMncpqiLkc8LG6Q&amp;s\"/>,\n",
       " <img alt=\"\" class=\"yWs4tf\" src=\"https://encrypted-tbn0.gstatic.com/images?q=tbn:ANd9GcQBNxx9A9T_1P0njT84OoLuixiuVzZeIBcQqKp94VV9AISzB_T5EUjHkWM_ylk&amp;s\"/>,\n",
       " <img alt=\"\" class=\"yWs4tf\" src=\"https://encrypted-tbn0.gstatic.com/images?q=tbn:ANd9GcS0JI9GWSuhaBfpXI5lEY0FpxX4YNmKR3lkc14RHy5GQWXRmM83r0IXJCdyWCw&amp;s\"/>,\n",
       " <img alt=\"\" class=\"yWs4tf\" src=\"https://encrypted-tbn0.gstatic.com/images?q=tbn:ANd9GcTG0bEhIX6krRAk5U4Hd_5ULnqjmr_i7OowL1-SSFhz1wwDbTam3Ljj5igiD8k&amp;s\"/>,\n",
       " <img alt=\"\" class=\"yWs4tf\" src=\"https://encrypted-tbn0.gstatic.com/images?q=tbn:ANd9GcTidorygNfHfHWLtTjgGJMtV9JPXIEJ64evAZab4CEQ1t278fo5bigebHMPd7g&amp;s\"/>,\n",
       " <img alt=\"\" class=\"yWs4tf\" src=\"https://encrypted-tbn0.gstatic.com/images?q=tbn:ANd9GcQgOVQnIkIIBnSQfjNAQ6DKmlbJAlkya266ODQhURmTCwaZUpHRMqR9tMNwaqc&amp;s\"/>,\n",
       " <img alt=\"\" class=\"yWs4tf\" src=\"https://encrypted-tbn0.gstatic.com/images?q=tbn:ANd9GcSvRLoDwKpeD6fbotOKuPbZvC69A7tojPxfyRem75otEVNj0M_rkR6zU7pXaA&amp;s\"/>,\n",
       " <img alt=\"\" class=\"yWs4tf\" src=\"https://encrypted-tbn0.gstatic.com/images?q=tbn:ANd9GcSO7mlmjpT7KutGeXtY3fuzoS_ShjZkekHR9PaCafXJCXLU-oXISCVzmCQGPw&amp;s\"/>,\n",
       " <img alt=\"\" class=\"yWs4tf\" src=\"https://encrypted-tbn0.gstatic.com/images?q=tbn:ANd9GcQ1xgGWvJ9jlBx84rUEDmqxcw516QVRsz0K-mMOCBt_FtdJeDDTWULc37X5AA&amp;s\"/>,\n",
       " <img alt=\"\" class=\"yWs4tf\" src=\"https://encrypted-tbn0.gstatic.com/images?q=tbn:ANd9GcTInmRrTxi1Vak4ggILY7OBqV2_O50wA9S80E128tfjLj_qQrcqEmkGsT0I4Fo&amp;s\"/>,\n",
       " <img alt=\"\" class=\"yWs4tf\" src=\"https://encrypted-tbn0.gstatic.com/images?q=tbn:ANd9GcSbkb9etLjrpsTywKdaFnHEChoyVkTsTA7a6Ggp4GR2du8XNl2kr_z8nLgmhg&amp;s\"/>,\n",
       " <img alt=\"\" class=\"yWs4tf\" src=\"https://encrypted-tbn0.gstatic.com/images?q=tbn:ANd9GcR1xmqZ1V2SfBoLSRpFhEyMWtSUZg33Ax8uDlvVId_6zVQeYX-WX6H7PNoLqhs&amp;s\"/>]"
      ]
     },
     "execution_count": 10,
     "metadata": {},
     "output_type": "execute_result"
    }
   ],
   "source": [
    "image_tags"
   ]
  },
  {
   "cell_type": "code",
   "execution_count": 11,
   "metadata": {},
   "outputs": [
    {
     "data": {
      "text/plain": [
       "20"
      ]
     },
     "execution_count": 11,
     "metadata": {},
     "output_type": "execute_result"
    }
   ],
   "source": [
    "len(image_tags)"
   ]
  },
  {
   "cell_type": "code",
   "execution_count": 12,
   "metadata": {},
   "outputs": [],
   "source": [
    "for i in image_tags:\n",
    "    image_url=i['src']\n",
    "    image_data=requests.get(image_url).content\n",
    "    with open(os.path.join(save_dir,f\"{query}_{image_tags.index(i)}.jpg\"),\"wb\") as f:\n",
    "        f.write(image_data)"
   ]
  }
 ],
 "metadata": {
  "kernelspec": {
   "display_name": "Python 3 (ipykernel)",
   "language": "python",
   "name": "python3"
  },
  "language_info": {
   "codemirror_mode": {
    "name": "ipython",
    "version": 3
   },
   "file_extension": ".py",
   "mimetype": "text/x-python",
   "name": "python",
   "nbconvert_exporter": "python",
   "pygments_lexer": "ipython3",
   "version": "3.9.17"
  }
 },
 "nbformat": 4,
 "nbformat_minor": 4
}
